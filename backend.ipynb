{
 "cells": [
  {
   "cell_type": "code",
   "execution_count": 15,
   "metadata": {},
   "outputs": [
    {
     "name": "stdout",
     "output_type": "stream",
     "text": [
      " * Serving Flask app \"__main__\" (lazy loading)\n",
      " * Environment: production\n",
      "\u001b[31m   WARNING: This is a development server. Do not use it in a production deployment.\u001b[0m\n",
      "\u001b[2m   Use a production WSGI server instead.\u001b[0m\n",
      " * Debug mode: on\n"
     ]
    },
    {
     "name": "stderr",
     "output_type": "stream",
     "text": [
      " * Restarting with watchdog (windowsapi)\n"
     ]
    },
    {
     "ename": "SystemExit",
     "evalue": "1",
     "output_type": "error",
     "traceback": [
      "An exception has occurred, use %tb to see the full traceback.\n",
      "\u001b[1;31mSystemExit\u001b[0m\u001b[1;31m:\u001b[0m 1\n"
     ]
    }
   ],
   "source": [
    "from flask import Flask, request, jsonify\n",
    "import pickle\n",
    "import numpy as np\n",
    "from sklearn.feature_extraction.text import CountVectorizer, TfidfVectorizer\n",
    "\n",
    "app = Flask(__name__,template_folder='templates')\n",
    "\n",
    "# Load the classifier\n",
    "with open(\"Python/classifier.pkl\", \"rb\") as f:\n",
    "    classifier = pickle.load(f)\n",
    "\n",
    "@app.route(\"/\", methods=[\"POST\"])\n",
    "def predict():\n",
    "    text = request.json[\"text\"]\n",
    "    # Preprocess the input text using the same method you used to train the classifier\n",
    "    processed_text = preprocess(text)\n",
    "    prediction = classifier.predict(np.array([processed_text]))[0]\n",
    "     # Convert the prediction to a genre \n",
    "    return jsonify({\"response_text\": prediction})\n",
    "\n",
    "if __name__ == \"__main__\":\n",
    "    app.run(debug=True)\n",
    "\n",
    "def preprocess(text):\n",
    "    # Preprocess the input text\n",
    "    text = text.lower()\n",
    "    text = text.replace(\"\\n\", \" \")\n",
    "    text = text.replace(\"\\t\", \" \")\n",
    "    text = text.replace(\"\\r\", \" \")\n",
    "    vectorizador = CountVectorizer(stop_words=\"english\")\n",
    "    vectorizador.fit([text])\n",
    "\n",
    "    return text"
   ]
  },
  {
   "cell_type": "code",
   "execution_count": 12,
   "metadata": {},
   "outputs": [
    {
     "name": "stdout",
     "output_type": "stream",
     "text": [
      " * Serving Flask app \"__main__\" (lazy loading)\n",
      " * Environment: production\n",
      "\u001b[31m   WARNING: This is a development server. Do not use it in a production deployment.\u001b[0m\n",
      "\u001b[2m   Use a production WSGI server instead.\u001b[0m\n",
      " * Debug mode: off\n"
     ]
    },
    {
     "name": "stderr",
     "output_type": "stream",
     "text": [
      " * Running on http://127.0.0.1:5000/ (Press CTRL+C to quit)\n",
      "127.0.0.1 - - [07/May/2023 18:43:12] \"GET / HTTP/1.1\" 200 -\n",
      "127.0.0.1 - - [07/May/2023 18:43:12] \"GET /dist/css/style.css HTTP/1.1\" 404 -\n",
      "127.0.0.1 - - [07/May/2023 18:43:12] \"GET /dist/js/main.min.js HTTP/1.1\" 404 -\n",
      "127.0.0.1 - - [07/May/2023 18:43:12] \"GET /dist/images/header-illustration-light.svg HTTP/1.1\" 404 -\n",
      "127.0.0.1 - - [07/May/2023 18:43:12] \"GET /dist/images/hero-media-illustration-light.svg HTTP/1.1\" 404 -\n",
      "127.0.0.1 - - [07/May/2023 18:43:12] \"GET /dist/images/hero-media-light.png HTTP/1.1\" 404 -\n"
     ]
    }
   ],
   "source": [
    "import flask\n",
    "app = flask.Flask(__name__, template_folder='templates')\n",
    "@app.route('/')\n",
    "def main():\n",
    "    return(flask.render_template('main.html'))\n",
    "if __name__ == '__main__':\n",
    "    app.run()"
   ]
  },
  {
   "cell_type": "code",
   "execution_count": 2,
   "metadata": {},
   "outputs": [],
   "source": [
    "\n",
    "from fastapi import FastAPI\n",
    "import pickle\n",
    "import numpy as np\n",
    "from pydantic import BaseModel\n",
    "\n",
    "app = FastAPI()\n",
    "\n",
    "# Load the classifier\n",
    "with open(\"Python/classifier.pkl\", \"rb\") as f:\n",
    "    classifier = pickle.load(f)\n",
    "\n",
    "class TextToClassify(BaseModel):\n",
    "    text: str\n",
    "\n",
    "def preprocess(text):\n",
    "    # Preprocess the input text here, using the same method you used to train the classifier\n",
    "    text = text.lower()\n",
    "    # ... (more preprocessing steps)\n",
    "    return text\n",
    "\n",
    "@app.post(\"/predict\")\n",
    "def predict_genre(text_to_classify: TextToClassify):\n",
    "    text = text_to_classify.text\n",
    "    processed_text = preprocess(text)\n",
    "    prediction = classifier.predict(np.array([processed_text]))[0]\n",
    "    genre = label_to_genre(prediction) # Convert the prediction to a genre (e.g., 'action', 'romance', etc.)\n",
    "    return {\"response_text\": genre}"
   ]
  }
 ],
 "metadata": {
  "kernelspec": {
   "display_name": "Python 3",
   "language": "python",
   "name": "python3"
  },
  "language_info": {
   "codemirror_mode": {
    "name": "ipython",
    "version": 3
   },
   "file_extension": ".py",
   "mimetype": "text/x-python",
   "name": "python",
   "nbconvert_exporter": "python",
   "pygments_lexer": "ipython3",
   "version": "3.9.7"
  },
  "orig_nbformat": 4
 },
 "nbformat": 4,
 "nbformat_minor": 2
}
