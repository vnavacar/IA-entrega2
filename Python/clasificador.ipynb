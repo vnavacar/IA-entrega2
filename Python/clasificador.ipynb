{
 "cells": [
  {
   "cell_type": "code",
   "execution_count": 38,
   "metadata": {},
   "outputs": [
    {
     "data": {
      "text/html": [
       "<div>\n",
       "<style scoped>\n",
       "    .dataframe tbody tr th:only-of-type {\n",
       "        vertical-align: middle;\n",
       "    }\n",
       "\n",
       "    .dataframe tbody tr th {\n",
       "        vertical-align: top;\n",
       "    }\n",
       "\n",
       "    .dataframe thead th {\n",
       "        text-align: right;\n",
       "    }\n",
       "</style>\n",
       "<table border=\"1\" class=\"dataframe\">\n",
       "  <thead>\n",
       "    <tr style=\"text-align: right;\">\n",
       "      <th></th>\n",
       "      <th>genre</th>\n",
       "      <th>sinopsis</th>\n",
       "    </tr>\n",
       "  </thead>\n",
       "  <tbody>\n",
       "    <tr>\n",
       "      <th>0</th>\n",
       "      <td>Comedia</td>\n",
       "      <td>Secuela de ZootrÃ³polis (2016), anunciada en f...</td>\n",
       "    </tr>\n",
       "    <tr>\n",
       "      <th>1</th>\n",
       "      <td>Comedia</td>\n",
       "      <td>Quinta entrega numerada de la saga Toy Story, ...</td>\n",
       "    </tr>\n",
       "    <tr>\n",
       "      <th>2</th>\n",
       "      <td>Comedia</td>\n",
       "      <td>Película animada de las tiras cómicas de \"Garf...</td>\n",
       "    </tr>\n",
       "    <tr>\n",
       "      <th>3</th>\n",
       "      <td>Comedia</td>\n",
       "      <td>Secuela de 'Del revés (Inside Out)' (2015), pr...</td>\n",
       "    </tr>\n",
       "    <tr>\n",
       "      <th>4</th>\n",
       "      <td>Comedia</td>\n",
       "      <td>Tres adolescentes atraen la indignación públic...</td>\n",
       "    </tr>\n",
       "    <tr>\n",
       "      <th>...</th>\n",
       "      <td>...</td>\n",
       "      <td>...</td>\n",
       "    </tr>\n",
       "    <tr>\n",
       "      <th>995</th>\n",
       "      <td>Terror</td>\n",
       "      <td>Alan llega a la escuela primaria de un pequeño...</td>\n",
       "    </tr>\n",
       "    <tr>\n",
       "      <th>996</th>\n",
       "      <td>Terror</td>\n",
       "      <td>Mientras están de vacaciones en una isla parad...</td>\n",
       "    </tr>\n",
       "    <tr>\n",
       "      <th>997</th>\n",
       "      <td>Terror</td>\n",
       "      <td>Historia del viaje por carretera de un ‘preppe...</td>\n",
       "    </tr>\n",
       "    <tr>\n",
       "      <th>998</th>\n",
       "      <td>Terror</td>\n",
       "      <td>Cuestiona la línea invisible entre víctima y e...</td>\n",
       "    </tr>\n",
       "    <tr>\n",
       "      <th>999</th>\n",
       "      <td>Terror</td>\n",
       "      <td>Los habitantes de un bloque de pisos se despie...</td>\n",
       "    </tr>\n",
       "  </tbody>\n",
       "</table>\n",
       "<p>1000 rows × 2 columns</p>\n",
       "</div>"
      ],
      "text/plain": [
       "       genre                                           sinopsis\n",
       "0    Comedia  Secuela de ZootrÃ³polis (2016), anunciada en f...\n",
       "1    Comedia  Quinta entrega numerada de la saga Toy Story, ...\n",
       "2    Comedia  Película animada de las tiras cómicas de \"Garf...\n",
       "3    Comedia  Secuela de 'Del revés (Inside Out)' (2015), pr...\n",
       "4    Comedia  Tres adolescentes atraen la indignación públic...\n",
       "..       ...                                                ...\n",
       "995   Terror  Alan llega a la escuela primaria de un pequeño...\n",
       "996   Terror  Mientras están de vacaciones en una isla parad...\n",
       "997   Terror  Historia del viaje por carretera de un ‘preppe...\n",
       "998   Terror  Cuestiona la línea invisible entre víctima y e...\n",
       "999   Terror  Los habitantes de un bloque de pisos se despie...\n",
       "\n",
       "[1000 rows x 2 columns]"
      ]
     },
     "execution_count": 38,
     "metadata": {},
     "output_type": "execute_result"
    }
   ],
   "source": [
    "import json\n",
    "import numpy as np\n",
    "import pandas as pd\n",
    "from sklearn.feature_extraction.text import CountVectorizer, TfidfVectorizer\n",
    "from sklearn.naive_bayes import MultinomialNB\n",
    "from sklearn.pipeline import Pipeline\n",
    "from sklearn.model_selection import train_test_split\n",
    "from sklearn.metrics import classification_report\n",
    "from sklearn.linear_model import LogisticRegression\n",
    "from sklearn.metrics import plot_confusion_matrix, classification_report\n",
    "\n",
    "# Load the data from the JSON file\n",
    "with open('peliculas_comedia.json', 'r') as f:\n",
    "    comedia = json.load(f)\n",
    "with open('peliculas_terror.json', 'r') as f:\n",
    "    terror = json.load(f)\n",
    "#with open('films_data.json', 'r') as f:\n",
    "    #accion = json.load(f)\n",
    "# Convert the data to a DataFrame\n",
    "df = pd.DataFrame(comedia + terror)\n",
    "#df.drop(['title'], axis=1, inplace=True)\n",
    "\n",
    "#df2 = pd.DataFrame(accion)\n",
    "# Filter the data to include only comedies and horrors\n",
    "df\n",
    "df['sinopsis'] = df['sinopsis'].apply(lambda x: ' '.join(x))\n",
    "relevant_genres = ['Comedia', 'Terror'] \n",
    "df['genre'] = df['genre'].apply(lambda x: [genre for genre in x if genre in relevant_genres])\n",
    "df['genre'] = df['genre'].str[0].astype(str)\n",
    "df.drop(['title'],axis=1)\n",
    " "
   ]
  },
  {
   "cell_type": "code",
   "execution_count": 39,
   "metadata": {},
   "outputs": [
    {
     "data": {
      "text/html": [
       "<div>\n",
       "<style scoped>\n",
       "    .dataframe tbody tr th:only-of-type {\n",
       "        vertical-align: middle;\n",
       "    }\n",
       "\n",
       "    .dataframe tbody tr th {\n",
       "        vertical-align: top;\n",
       "    }\n",
       "\n",
       "    .dataframe thead th {\n",
       "        text-align: right;\n",
       "    }\n",
       "</style>\n",
       "<table border=\"1\" class=\"dataframe\">\n",
       "  <thead>\n",
       "    <tr style=\"text-align: right;\">\n",
       "      <th></th>\n",
       "      <th>title</th>\n",
       "      <th>genre</th>\n",
       "      <th>sinopsis</th>\n",
       "    </tr>\n",
       "  </thead>\n",
       "  <tbody>\n",
       "    <tr>\n",
       "      <th>0</th>\n",
       "      <td>Zootopia 2</td>\n",
       "      <td>0</td>\n",
       "      <td>Secuela de ZootrÃ³polis (2016), anunciada en f...</td>\n",
       "    </tr>\n",
       "    <tr>\n",
       "      <th>1</th>\n",
       "      <td>Toy Story 5</td>\n",
       "      <td>0</td>\n",
       "      <td>Quinta entrega numerada de la saga Toy Story, ...</td>\n",
       "    </tr>\n",
       "    <tr>\n",
       "      <th>2</th>\n",
       "      <td>Garfield</td>\n",
       "      <td>0</td>\n",
       "      <td>Película animada de las tiras cómicas de \"Garf...</td>\n",
       "    </tr>\n",
       "    <tr>\n",
       "      <th>3</th>\n",
       "      <td>Inside Out 2</td>\n",
       "      <td>0</td>\n",
       "      <td>Secuela de 'Del revés (Inside Out)' (2015), pr...</td>\n",
       "    </tr>\n",
       "    <tr>\n",
       "      <th>4</th>\n",
       "      <td>HLM Pussy</td>\n",
       "      <td>0</td>\n",
       "      <td>Tres adolescentes atraen la indignación públic...</td>\n",
       "    </tr>\n",
       "    <tr>\n",
       "      <th>...</th>\n",
       "      <td>...</td>\n",
       "      <td>...</td>\n",
       "      <td>...</td>\n",
       "    </tr>\n",
       "    <tr>\n",
       "      <th>995</th>\n",
       "      <td>Inside No. 9: Mr. King</td>\n",
       "      <td>1</td>\n",
       "      <td>Alan llega a la escuela primaria de un pequeño...</td>\n",
       "    </tr>\n",
       "    <tr>\n",
       "      <th>996</th>\n",
       "      <td>Maneater</td>\n",
       "      <td>1</td>\n",
       "      <td>Mientras están de vacaciones en una isla parad...</td>\n",
       "    </tr>\n",
       "    <tr>\n",
       "      <th>997</th>\n",
       "      <td>Tales of the Walking Dead: Evie/Joe</td>\n",
       "      <td>1</td>\n",
       "      <td>Historia del viaje por carretera de un ‘preppe...</td>\n",
       "    </tr>\n",
       "    <tr>\n",
       "      <th>998</th>\n",
       "      <td>Megalomaniac</td>\n",
       "      <td>1</td>\n",
       "      <td>Cuestiona la línea invisible entre víctima y e...</td>\n",
       "    </tr>\n",
       "    <tr>\n",
       "      <th>999</th>\n",
       "      <td>La tour</td>\n",
       "      <td>1</td>\n",
       "      <td>Los habitantes de un bloque de pisos se despie...</td>\n",
       "    </tr>\n",
       "  </tbody>\n",
       "</table>\n",
       "<p>1000 rows × 3 columns</p>\n",
       "</div>"
      ],
      "text/plain": [
       "                                   title  genre  \\\n",
       "0                             Zootopia 2      0   \n",
       "1                            Toy Story 5      0   \n",
       "2                               Garfield      0   \n",
       "3                           Inside Out 2      0   \n",
       "4                              HLM Pussy      0   \n",
       "..                                   ...    ...   \n",
       "995               Inside No. 9: Mr. King      1   \n",
       "996                             Maneater      1   \n",
       "997  Tales of the Walking Dead: Evie/Joe      1   \n",
       "998                         Megalomaniac      1   \n",
       "999                              La tour      1   \n",
       "\n",
       "                                              sinopsis  \n",
       "0    Secuela de ZootrÃ³polis (2016), anunciada en f...  \n",
       "1    Quinta entrega numerada de la saga Toy Story, ...  \n",
       "2    Película animada de las tiras cómicas de \"Garf...  \n",
       "3    Secuela de 'Del revés (Inside Out)' (2015), pr...  \n",
       "4    Tres adolescentes atraen la indignación públic...  \n",
       "..                                                 ...  \n",
       "995  Alan llega a la escuela primaria de un pequeño...  \n",
       "996  Mientras están de vacaciones en una isla parad...  \n",
       "997  Historia del viaje por carretera de un ‘preppe...  \n",
       "998  Cuestiona la línea invisible entre víctima y e...  \n",
       "999  Los habitantes de un bloque de pisos se despie...  \n",
       "\n",
       "[1000 rows x 3 columns]"
      ]
     },
     "execution_count": 39,
     "metadata": {},
     "output_type": "execute_result"
    }
   ],
   "source": [
    "df['genre'].value_counts(normalize=True)\n",
    "df['genre']=df['genre'].replace({'Comedia':0,'Terror':1})\n",
    "df"
   ]
  },
  {
   "cell_type": "code",
   "execution_count": 40,
   "metadata": {},
   "outputs": [],
   "source": [
    "sinopsis = df[\"sinopsis\"]\n",
    "genre = df[\"genre\"]\n",
    "sinopsis_train, sinopsis_test, genre_train, genre_test = train_test_split(\n",
    "    sinopsis, genre, test_size=0.1, random_state=30)\n"
   ]
  },
  {
   "cell_type": "code",
   "execution_count": 41,
   "metadata": {},
   "outputs": [
    {
     "name": "stderr",
     "output_type": "stream",
     "text": [
      "[nltk_data] Downloading package stopwords to\n",
      "[nltk_data]     C:\\Users\\gabri\\AppData\\Roaming\\nltk_data...\n",
      "[nltk_data]   Package stopwords is already up-to-date!\n"
     ]
    }
   ],
   "source": [
    "#import stopwords\n",
    "import nltk\n",
    "nltk.download('stopwords')\n",
    "stop= nltk.corpus.stopwords.words('spanish')\n",
    "vectorizador = CountVectorizer(stop_words=stop)\n",
    "sinopsis_train_vector = vectorizador.fit_transform(sinopsis_train)\n",
    "sinopsis_test_vector = vectorizador.transform(sinopsis_test)\n"
   ]
  },
  {
   "cell_type": "code",
   "execution_count": 42,
   "metadata": {},
   "outputs": [
    {
     "data": {
      "text/plain": [
       "LogisticRegression()"
      ]
     },
     "execution_count": 42,
     "metadata": {},
     "output_type": "execute_result"
    }
   ],
   "source": [
    "clf = LogisticRegression()\n",
    "clf.fit(sinopsis_train_vector, genre_train)\n"
   ]
  },
  {
   "cell_type": "code",
   "execution_count": 43,
   "metadata": {},
   "outputs": [
    {
     "name": "stdout",
     "output_type": "stream",
     "text": [
      "              precision    recall  f1-score   support\n",
      "\n",
      "     Comedia       0.74      0.68      0.71        50\n",
      "      Horror       0.70      0.76      0.73        50\n",
      "\n",
      "    accuracy                           0.72       100\n",
      "   macro avg       0.72      0.72      0.72       100\n",
      "weighted avg       0.72      0.72      0.72       100\n",
      "\n"
     ]
    }
   ],
   "source": [
    "preds = clf.predict(sinopsis_test_vector)\n",
    "print(classification_report(genre_test, preds,\n",
    "      target_names=['Comedia', 'Horror']))\n"
   ]
  },
  {
   "cell_type": "code",
   "execution_count": 44,
   "metadata": {},
   "outputs": [
    {
     "data": {
      "text/plain": [
       "<sklearn.metrics._plot.confusion_matrix.ConfusionMatrixDisplay at 0x29cb968fd90>"
      ]
     },
     "execution_count": 44,
     "metadata": {},
     "output_type": "execute_result"
    },
    {
     "data": {
      "image/png": "[encoded data removed]",
      "text/plain": [
       "<Figure size 432x288 with 2 Axes>"
      ]
     },
     "metadata": {
      "needs_background": "light"
     },
     "output_type": "display_data"
    }
   ],
   "source": [
    "plot_confusion_matrix(clf, sinopsis_test_vector, genre_test)\n"
   ]
  },
  {
   "cell_type": "code",
   "execution_count": 45,
   "metadata": {},
   "outputs": [],
   "source": [
    "pipe = Pipeline([('vectorizer', vectorizador), ('clf', clf)])"
   ]
  },
  {
   "cell_type": "code",
   "execution_count": 46,
   "metadata": {},
   "outputs": [],
   "source": [
    "# dump el clasificador\n",
    "import pickle\n",
    "with open('classifier.pkl', 'wb') as f:\n",
    "    pickle.dump(pipe, f)\n"
   ]
  }
 ],
 "metadata": {
  "kernelspec": {
   "display_name": "uax_clase",
   "language": "python",
   "name": "python3"
  },
  "language_info": {
   "codemirror_mode": {
    "name": "ipython",
    "version": 3
   },
   "file_extension": ".py",
   "mimetype": "text/x-python",
   "name": "python",
   "nbconvert_exporter": "python",
   "pygments_lexer": "ipython3",
   "version": "3.9.7"
  },
  "orig_nbformat": 4
 },
 "nbformat": 4,
 "nbformat_minor": 2
}
